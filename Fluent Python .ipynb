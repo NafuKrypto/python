{
 "cells": [
  {
   "cell_type": "markdown",
   "metadata": {},
   "source": [
    "# Chapter 1\n",
    "\n",
    "## The Python Data Model\n",
    "\n",
    "**Data Model**\n",
    "- Description of Python as a framework \n",
    "- Formalizes the interfaces such as sequesnces , iterators , functions , classes , context manager \n",
    "\n",
    "**Method**  \n",
    "- implementing methods that are called by framework and data model \n",
    "- Python interpreter invokes special methods to \n",
    "- Python interpreter triggerd by special syntax\n",
    "- special methods syntax -->  (\\__getitem__\\)"
   ]
  },
  {
   "cell_type": "markdown",
   "metadata": {},
   "source": [
    "**Special Method names**\n",
    "\n",
    "- allows our objects to implement , support , and interact with basic language constructs as such \n",
    "        + Iteration\n",
    "        + Collection \n",
    "        + Attribute access\n",
    "        + Operator Overloading \n",
    "        + Function and method invocation\n",
    "        + Object creation \n",
    "        + String representation \n",
    "        + Managed contexts (with blocks)\n",
    "  "
   ]
  },
  {
   "cell_type": "markdown",
   "metadata": {},
   "source": [
    "**Magic and Dunder**\n",
    "- a slang for special method \n",
    "- Pronounce it --> (\\__getitem__\\) --> \"dunder-getitem\"\n",
    "- for the upper reason , special methods are also known as dunder method "
   ]
  },
  {
   "cell_type": "markdown",
   "metadata": {},
   "source": [
    "# A Pythonic Card Deck\n",
    "\n",
    "*Example 1-1*\n"
   ]
  },
  {
   "cell_type": "code",
   "execution_count": 8,
   "metadata": {},
   "outputs": [],
   "source": [
    "import collections"
   ]
  },
  {
   "cell_type": "code",
   "execution_count": 9,
   "metadata": {},
   "outputs": [],
   "source": [
    "#to construct a simple class to represent individual cards\n",
    "Card=collections.namedtuple('Card',['rank','suite'])"
   ]
  },
  {
   "cell_type": "code",
   "execution_count": 4,
   "metadata": {},
   "outputs": [],
   "source": [
    "class FrenchDeck:\n",
    "    ranks = [str(n) for n in range(2, 11)] + list('JQKA')\n",
    "    suits = 'spades diamonds clubs hearts'.split()\n",
    "    def __init__(self):\n",
    "        self._cards = [Card(rank, suit) for suit in self.suits for rank in self.ranks]\n",
    "    def __len__(self):\n",
    "        return len(self._cards)\n",
    "    def __getitem__(self, position):\n",
    "        return self._cards[position]"
   ]
  },
  {
   "cell_type": "code",
   "execution_count": 10,
   "metadata": {},
   "outputs": [],
   "source": [
    "beer_card = Card('7', 'diamonds')"
   ]
  },
  {
   "cell_type": "code",
   "execution_count": 11,
   "metadata": {},
   "outputs": [
    {
     "data": {
      "text/plain": [
       "Card(rank='7', suite='diamonds')"
      ]
     },
     "execution_count": 11,
     "metadata": {},
     "output_type": "execute_result"
    }
   ],
   "source": [
    "beer_card"
   ]
  },
  {
   "cell_type": "code",
   "execution_count": 12,
   "metadata": {},
   "outputs": [],
   "source": [
    "deck=FrenchDeck()"
   ]
  },
  {
   "cell_type": "code",
   "execution_count": 13,
   "metadata": {},
   "outputs": [
    {
     "data": {
      "text/plain": [
       "52"
      ]
     },
     "execution_count": 13,
     "metadata": {},
     "output_type": "execute_result"
    }
   ],
   "source": [
    "len(deck)"
   ]
  },
  {
   "cell_type": "code",
   "execution_count": 17,
   "metadata": {},
   "outputs": [
    {
     "data": {
      "text/plain": [
       "Card(rank='2', suite='spades')"
      ]
     },
     "execution_count": 17,
     "metadata": {},
     "output_type": "execute_result"
    }
   ],
   "source": [
    "# first card\n",
    "deck[0]"
   ]
  },
  {
   "cell_type": "code",
   "execution_count": 19,
   "metadata": {},
   "outputs": [
    {
     "data": {
      "text/plain": [
       "Card(rank='A', suite='hearts')"
      ]
     },
     "execution_count": 19,
     "metadata": {},
     "output_type": "execute_result"
    }
   ],
   "source": [
    "deck[-1]"
   ]
  },
  {
   "cell_type": "code",
   "execution_count": 22,
   "metadata": {},
   "outputs": [
    {
     "data": {
      "text/plain": [
       "Card(rank='5', suite='spades')"
      ]
     },
     "execution_count": 22,
     "metadata": {},
     "output_type": "execute_result"
    }
   ],
   "source": [
    "# randomly choosing deck\n",
    "from random import choice \n",
    "choice(deck)"
   ]
  },
  {
   "cell_type": "markdown",
   "metadata": {},
   "source": [
    "### Two advantages of using special method\n",
    "\n",
    "+ The users of your classes don’t have to memorize arbitrary method names for standard operations (“How to get the number of items? Is it .size(), .length(), or what?”).\n",
    "\n",
    "+ It’s easier to benefit from the rich Python standard library and avoid reinventing the wheel, like the random.choice function."
   ]
  },
  {
   "cell_type": "code",
   "execution_count": 23,
   "metadata": {},
   "outputs": [
    {
     "data": {
      "text/plain": [
       "[Card(rank='2', suite='spades'),\n",
       " Card(rank='3', suite='spades'),\n",
       " Card(rank='4', suite='spades')]"
      ]
     },
     "execution_count": 23,
     "metadata": {},
     "output_type": "execute_result"
    }
   ],
   "source": [
    "#top 3 cards\n",
    "deck[:3]"
   ]
  },
  {
   "cell_type": "code",
   "execution_count": 25,
   "metadata": {},
   "outputs": [
    {
     "data": {
      "text/plain": [
       "[Card(rank='A', suite='spades'),\n",
       " Card(rank='A', suite='diamonds'),\n",
       " Card(rank='A', suite='clubs'),\n",
       " Card(rank='A', suite='hearts')]"
      ]
     },
     "execution_count": 25,
     "metadata": {},
     "output_type": "execute_result"
    }
   ],
   "source": [
    "#picking first card at 12 and then picking cards at 13 interval \n",
    "deck[12::13]"
   ]
  },
  {
   "cell_type": "code",
   "execution_count": 28,
   "metadata": {},
   "outputs": [
    {
     "name": "stdout",
     "output_type": "stream",
     "text": [
      "Card(rank='2', suite='spades')\n",
      "Card(rank='3', suite='spades')\n",
      "Card(rank='4', suite='spades')\n",
      "Card(rank='5', suite='spades')\n",
      "Card(rank='6', suite='spades')\n",
      "Card(rank='7', suite='spades')\n",
      "Card(rank='8', suite='spades')\n",
      "Card(rank='9', suite='spades')\n",
      "Card(rank='10', suite='spades')\n",
      "Card(rank='J', suite='spades')\n",
      "Card(rank='Q', suite='spades')\n",
      "Card(rank='K', suite='spades')\n",
      "Card(rank='A', suite='spades')\n",
      "Card(rank='2', suite='diamonds')\n",
      "Card(rank='3', suite='diamonds')\n",
      "Card(rank='4', suite='diamonds')\n",
      "Card(rank='5', suite='diamonds')\n",
      "Card(rank='6', suite='diamonds')\n",
      "Card(rank='7', suite='diamonds')\n",
      "Card(rank='8', suite='diamonds')\n",
      "Card(rank='9', suite='diamonds')\n",
      "Card(rank='10', suite='diamonds')\n",
      "Card(rank='J', suite='diamonds')\n",
      "Card(rank='Q', suite='diamonds')\n",
      "Card(rank='K', suite='diamonds')\n",
      "Card(rank='A', suite='diamonds')\n",
      "Card(rank='2', suite='clubs')\n",
      "Card(rank='3', suite='clubs')\n",
      "Card(rank='4', suite='clubs')\n",
      "Card(rank='5', suite='clubs')\n",
      "Card(rank='6', suite='clubs')\n",
      "Card(rank='7', suite='clubs')\n",
      "Card(rank='8', suite='clubs')\n",
      "Card(rank='9', suite='clubs')\n",
      "Card(rank='10', suite='clubs')\n",
      "Card(rank='J', suite='clubs')\n",
      "Card(rank='Q', suite='clubs')\n",
      "Card(rank='K', suite='clubs')\n",
      "Card(rank='A', suite='clubs')\n",
      "Card(rank='2', suite='hearts')\n",
      "Card(rank='3', suite='hearts')\n",
      "Card(rank='4', suite='hearts')\n",
      "Card(rank='5', suite='hearts')\n",
      "Card(rank='6', suite='hearts')\n",
      "Card(rank='7', suite='hearts')\n",
      "Card(rank='8', suite='hearts')\n",
      "Card(rank='9', suite='hearts')\n",
      "Card(rank='10', suite='hearts')\n",
      "Card(rank='J', suite='hearts')\n",
      "Card(rank='Q', suite='hearts')\n",
      "Card(rank='K', suite='hearts')\n",
      "Card(rank='A', suite='hearts')\n"
     ]
    }
   ],
   "source": [
    "for x in deck:\n",
    "    print(x)"
   ]
  },
  {
   "cell_type": "code",
   "execution_count": 30,
   "metadata": {},
   "outputs": [
    {
     "data": {
      "text/plain": [
       "Card(rank='2', suite='diamonds')"
      ]
     },
     "execution_count": 30,
     "metadata": {},
     "output_type": "execute_result"
    }
   ],
   "source": [
    "deck[13]"
   ]
  },
  {
   "cell_type": "code",
   "execution_count": 32,
   "metadata": {},
   "outputs": [
    {
     "data": {
      "text/plain": [
       "[Card(rank='2', suite='spades'),\n",
       " Card(rank='2', suite='diamonds'),\n",
       " Card(rank='2', suite='clubs'),\n",
       " Card(rank='2', suite='hearts')]"
      ]
     },
     "execution_count": 32,
     "metadata": {},
     "output_type": "execute_result"
    }
   ],
   "source": [
    "deck[::13] #checking how [::] works "
   ]
  },
  {
   "cell_type": "code",
   "execution_count": 36,
   "metadata": {},
   "outputs": [
    {
     "name": "stdout",
     "output_type": "stream",
     "text": [
      "Card(rank='A', suite='hearts')\n",
      "Card(rank='K', suite='hearts')\n",
      "Card(rank='Q', suite='hearts')\n",
      "Card(rank='J', suite='hearts')\n",
      "Card(rank='10', suite='hearts')\n",
      "Card(rank='9', suite='hearts')\n",
      "Card(rank='8', suite='hearts')\n",
      "Card(rank='7', suite='hearts')\n",
      "Card(rank='6', suite='hearts')\n",
      "Card(rank='5', suite='hearts')\n",
      "Card(rank='4', suite='hearts')\n",
      "Card(rank='3', suite='hearts')\n",
      "Card(rank='2', suite='hearts')\n",
      "Card(rank='A', suite='clubs')\n",
      "Card(rank='K', suite='clubs')\n",
      "Card(rank='Q', suite='clubs')\n",
      "Card(rank='J', suite='clubs')\n",
      "Card(rank='10', suite='clubs')\n",
      "Card(rank='9', suite='clubs')\n",
      "Card(rank='8', suite='clubs')\n",
      "Card(rank='7', suite='clubs')\n",
      "Card(rank='6', suite='clubs')\n",
      "Card(rank='5', suite='clubs')\n",
      "Card(rank='4', suite='clubs')\n",
      "Card(rank='3', suite='clubs')\n",
      "Card(rank='2', suite='clubs')\n",
      "Card(rank='A', suite='diamonds')\n",
      "Card(rank='K', suite='diamonds')\n",
      "Card(rank='Q', suite='diamonds')\n",
      "Card(rank='J', suite='diamonds')\n",
      "Card(rank='10', suite='diamonds')\n",
      "Card(rank='9', suite='diamonds')\n",
      "Card(rank='8', suite='diamonds')\n",
      "Card(rank='7', suite='diamonds')\n",
      "Card(rank='6', suite='diamonds')\n",
      "Card(rank='5', suite='diamonds')\n",
      "Card(rank='4', suite='diamonds')\n",
      "Card(rank='3', suite='diamonds')\n",
      "Card(rank='2', suite='diamonds')\n",
      "Card(rank='A', suite='spades')\n",
      "Card(rank='K', suite='spades')\n",
      "Card(rank='Q', suite='spades')\n",
      "Card(rank='J', suite='spades')\n",
      "Card(rank='10', suite='spades')\n",
      "Card(rank='9', suite='spades')\n",
      "Card(rank='8', suite='spades')\n",
      "Card(rank='7', suite='spades')\n",
      "Card(rank='6', suite='spades')\n",
      "Card(rank='5', suite='spades')\n",
      "Card(rank='4', suite='spades')\n",
      "Card(rank='3', suite='spades')\n",
      "Card(rank='2', suite='spades')\n"
     ]
    }
   ],
   "source": [
    "# reversing the cards and then printing\n",
    "for x in reversed(deck): # doctest: +ELLIPSIS\n",
    "    print(x)"
   ]
  },
  {
   "cell_type": "markdown",
   "metadata": {},
   "source": [
    "# Ellipsis in doctests\n",
    "\n",
    "*1. When the output was too long, the elided part is marked by an ellipsis* *(...) like in the last line in the preceding code.*\n",
    "\n",
    "*2. In such cases, we used the #doctest: +ELLIPSIS directive to make the* *doctest pass.*\n",
    "\n",
    "Iteration is often implicit. If a collection has no __contains__ method, the in operatordoes a sequential scan.\n",
    "\n",
    "Case in point: in works with our FrenchDeck class because it is iterable."
   ]
  },
  {
   "cell_type": "code",
   "execution_count": 34,
   "metadata": {},
   "outputs": [
    {
     "data": {
      "text/plain": [
       "True"
      ]
     },
     "execution_count": 34,
     "metadata": {},
     "output_type": "execute_result"
    }
   ],
   "source": [
    "Card('Q','hearts') in deck"
   ]
  },
  {
   "cell_type": "code",
   "execution_count": 35,
   "metadata": {
    "scrolled": true
   },
   "outputs": [
    {
     "data": {
      "text/plain": [
       "False"
      ]
     },
     "execution_count": 35,
     "metadata": {},
     "output_type": "execute_result"
    }
   ],
   "source": [
    "Card('Q','beasts') in deck"
   ]
  },
  {
   "cell_type": "markdown",
   "metadata": {},
   "source": [
    "# Sorting\n",
    "\n",
    "+ By rank (Ace is the highest)\n",
    "+ By suite in order of spades (highest)\n",
    "+ then hearts, diamonds and clubs"
   ]
  },
  {
   "cell_type": "markdown",
   "metadata": {},
   "source": [
    "Here is a function that ranks cards by that rule, returning 0 for the 2 of clubs\n",
    "and 51 for the ace of spades:"
   ]
  },
  {
   "cell_type": "code",
   "execution_count": 37,
   "metadata": {},
   "outputs": [],
   "source": [
    "suite_values=dict(spades=3,hearts=2,diamonds=1,clubs=0)"
   ]
  },
  {
   "cell_type": "code",
   "execution_count": 39,
   "metadata": {},
   "outputs": [],
   "source": [
    "def spades_high(card):\n",
    "    rank_value=FrenchDeck.ranks.index(card.rank)\n",
    "    return rank_value * len(suite_values) + suite_values[card.suite]"
   ]
  },
  {
   "cell_type": "code",
   "execution_count": 40,
   "metadata": {},
   "outputs": [
    {
     "name": "stdout",
     "output_type": "stream",
     "text": [
      "Card(rank='2', suite='clubs')\n",
      "Card(rank='2', suite='diamonds')\n",
      "Card(rank='2', suite='hearts')\n",
      "Card(rank='2', suite='spades')\n",
      "Card(rank='3', suite='clubs')\n",
      "Card(rank='3', suite='diamonds')\n",
      "Card(rank='3', suite='hearts')\n",
      "Card(rank='3', suite='spades')\n",
      "Card(rank='4', suite='clubs')\n",
      "Card(rank='4', suite='diamonds')\n",
      "Card(rank='4', suite='hearts')\n",
      "Card(rank='4', suite='spades')\n",
      "Card(rank='5', suite='clubs')\n",
      "Card(rank='5', suite='diamonds')\n",
      "Card(rank='5', suite='hearts')\n",
      "Card(rank='5', suite='spades')\n",
      "Card(rank='6', suite='clubs')\n",
      "Card(rank='6', suite='diamonds')\n",
      "Card(rank='6', suite='hearts')\n",
      "Card(rank='6', suite='spades')\n",
      "Card(rank='7', suite='clubs')\n",
      "Card(rank='7', suite='diamonds')\n",
      "Card(rank='7', suite='hearts')\n",
      "Card(rank='7', suite='spades')\n",
      "Card(rank='8', suite='clubs')\n",
      "Card(rank='8', suite='diamonds')\n",
      "Card(rank='8', suite='hearts')\n",
      "Card(rank='8', suite='spades')\n",
      "Card(rank='9', suite='clubs')\n",
      "Card(rank='9', suite='diamonds')\n",
      "Card(rank='9', suite='hearts')\n",
      "Card(rank='9', suite='spades')\n",
      "Card(rank='10', suite='clubs')\n",
      "Card(rank='10', suite='diamonds')\n",
      "Card(rank='10', suite='hearts')\n",
      "Card(rank='10', suite='spades')\n",
      "Card(rank='J', suite='clubs')\n",
      "Card(rank='J', suite='diamonds')\n",
      "Card(rank='J', suite='hearts')\n",
      "Card(rank='J', suite='spades')\n",
      "Card(rank='Q', suite='clubs')\n",
      "Card(rank='Q', suite='diamonds')\n",
      "Card(rank='Q', suite='hearts')\n",
      "Card(rank='Q', suite='spades')\n",
      "Card(rank='K', suite='clubs')\n",
      "Card(rank='K', suite='diamonds')\n",
      "Card(rank='K', suite='hearts')\n",
      "Card(rank='K', suite='spades')\n",
      "Card(rank='A', suite='clubs')\n",
      "Card(rank='A', suite='diamonds')\n",
      "Card(rank='A', suite='hearts')\n",
      "Card(rank='A', suite='spades')\n"
     ]
    }
   ],
   "source": [
    "# deck is an object for FrenchDeck class\n",
    "for card in sorted(deck,key=spades_high):\n",
    "    print(card)"
   ]
  },
  {
   "cell_type": "code",
   "execution_count": null,
   "metadata": {},
   "outputs": [],
   "source": []
  }
 ],
 "metadata": {
  "kernelspec": {
   "display_name": "Python 3",
   "language": "python",
   "name": "python3"
  },
  "language_info": {
   "codemirror_mode": {
    "name": "ipython",
    "version": 3
   },
   "file_extension": ".py",
   "mimetype": "text/x-python",
   "name": "python",
   "nbconvert_exporter": "python",
   "pygments_lexer": "ipython3",
   "version": "3.7.4"
  }
 },
 "nbformat": 4,
 "nbformat_minor": 2
}
